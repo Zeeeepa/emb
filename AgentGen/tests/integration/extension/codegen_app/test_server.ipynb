{
 "cells": [
  {
   "cell_type": "code",
   "execution_count": null,
   "metadata": {},
   "outputs": [],
   "source": [
    "%load_ext autoreload\n",
    "%autoreload 2\n",
    "import asyncio\n",
    "from contextlib import asynccontextmanager\n",
    "\n",
    "import pytest\n",
    "from slack_sdk import WebClient\n",
    "from uvicorn.config import Config\n",
    "from uvicorn.server import Server\n",
    "\n",
    "from codegen.extensions.events.client import CodegenClient\n",
    "from codegen.extensions.events.codegen_app import CodegenApp\n",
    "from codegen.extensions.slack.types import SlackEvent"
   ]
  },
  {
   "cell_type": "code",
   "execution_count": null,
   "metadata": {},
   "outputs": [],
   "source": [
    "client = CodegenClient(base_url=\"https://codegen-sh-staging--codegen-test-fastapi-app.modal.run\")"
   ]
  },
  {
   "cell_type": "markdown",
   "metadata": {},
   "source": [
    "# Slack"
   ]
  },
  {
   "cell_type": "code",
   "execution_count": null,
   "metadata": {},
   "outputs": [],
   "source": [
    "response = await client.send_slack_message(text=\"\", channel=\"C123TEST\", event_type=\"app_mention\")"
   ]
  },
  {
   "cell_type": "code",
   "execution_count": null,
   "metadata": {},
   "outputs": [],
   "source": [
    "response"
   ]
  },
  {
   "cell_type": "markdown",
   "metadata": {},
   "source": [
    "# Github"
   ]
  },
  {
   "cell_type": "code",
   "execution_count": null,
   "metadata": {},
   "outputs": [],
   "source": [
    "payload = {\n",
    "    \"action\": \"labeled\",\n",
    "    \"number\": 123,\n",
    "    \"pull_request\": {\n",
    "        \"id\": 12345,\n",
    "        \"number\": 123,\n",
    "        \"node_id\": \"PR_123\",\n",
    "        \"state\": \"open\",\n",
    "        \"locked\": False,\n",
    "        \"title\": \"Test PR\",\n",
    "        \"user\": {\"id\": 1, \"login\": \"test-user\", \"node_id\": \"U_123\", \"type\": \"User\"},\n",
    "        \"body\": \"Test PR body\",\n",
    "        \"labels\": [],\n",
    "        \"created_at\": \"2024-01-01T00:00:00Z\",\n",
    "        \"updated_at\": \"2024-01-01T00:00:00Z\",\n",
    "        \"draft\": False,\n",
    "        \"head\": {\n",
    "            \"label\": \"user:feature\",\n",
    "            \"ref\": \"feature\",\n",
    "            \"sha\": \"abc123\",\n",
    "            \"user\": {\"id\": 1, \"login\": \"test-user\", \"node_id\": \"U_123\", \"type\": \"User\"},\n",
    "            \"repo\": {\"id\": 1, \"name\": \"test\", \"node_id\": \"R_123\", \"full_name\": \"test/test\", \"private\": False, \"owner\": {\"id\": 1, \"login\": \"test-user\", \"node_id\": \"U_123\", \"type\": \"User\"}},\n",
    "        },\n",
    "        \"base\": {\n",
    "            \"label\": \"main\",\n",
    "            \"ref\": \"main\",\n",
    "            \"sha\": \"def456\",\n",
    "            \"user\": {\"id\": 1, \"login\": \"test-user\", \"node_id\": \"U_123\", \"type\": \"User\"},\n",
    "            \"repo\": {\"id\": 1, \"name\": \"test\", \"node_id\": \"R_123\", \"full_name\": \"test/test\", \"private\": False, \"owner\": {\"id\": 1, \"login\": \"test-user\", \"node_id\": \"U_123\", \"type\": \"User\"}},\n",
    "        },\n",
    "    },\n",
    "    \"label\": {\"id\": 1, \"node_id\": \"L_123\", \"url\": \"https://api.github.com/repos/test/test/labels/bug\", \"name\": \"bug\", \"description\": \"Bug report\", \"color\": \"red\", \"default\": False},\n",
    "    \"repository\": {\"id\": 1, \"name\": \"test\", \"node_id\": \"R_123\", \"full_name\": \"test/test\", \"private\": False, \"owner\": {\"id\": 1, \"login\": \"test-user\", \"node_id\": \"U_123\", \"type\": \"User\"}},\n",
    "    \"sender\": {\"id\": 1, \"login\": \"test-user\", \"node_id\": \"U_123\", \"type\": \"User\"},\n",
    "}\n",
    "\n",
    "# Send test event\n",
    "response = await client.send_github_event(\n",
    "    event_type=\"pull_request\",\n",
    "    action=\"labeled\",\n",
    "    payload=payload,\n",
    ")"
   ]
  },
  {
   "cell_type": "markdown",
   "metadata": {},
   "source": [
    "# Linear"
   ]
  },
  {
   "cell_type": "code",
   "execution_count": null,
   "metadata": {},
   "outputs": [],
   "source": [
    "# Create test issue created payload\n",
    "payload = {\n",
    "    \"action\": \"create\",\n",
    "    \"type\": \"Issue\",\n",
    "    \"data\": {\n",
    "        \"id\": \"abc-123\",\n",
    "        \"title\": \"Test Issue\",\n",
    "        \"description\": \"This is a test issue\",\n",
    "        \"priority\": 1,\n",
    "        \"teamId\": \"team-123\",\n",
    "    },\n",
    "    \"url\": \"https://linear.app/company/issue/ABC-123\",\n",
    "}\n",
    "\n",
    "# Send test event\n",
    "response = await client.send_linear_event(payload=payload)"
   ]
  },
  {
   "cell_type": "code",
   "execution_count": null,
   "metadata": {},
   "outputs": [],
   "source": [
    "response"
   ]
  },
  {
   "cell_type": "code",
   "execution_count": null,
   "metadata": {},
   "outputs": [],
   "source": []
  }
 ],
 "metadata": {
  "kernelspec": {
   "display_name": "Python 3 (ipykernel)",
   "language": "python",
   "name": "python3"
  },
  "language_info": {
   "codemirror_mode": {
    "name": "ipython",
    "version": 3
   },
   "file_extension": ".py",
   "mimetype": "text/x-python",
   "name": "python",
   "nbconvert_exporter": "python",
   "pygments_lexer": "ipython3",
   "version": "3.13.0"
  }
 },
 "nbformat": 4,
 "nbformat_minor": 4
}
